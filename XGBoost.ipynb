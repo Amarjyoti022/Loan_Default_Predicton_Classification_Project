{
 "cells": [
  {
   "cell_type": "code",
   "execution_count": 1,
   "id": "a50f65e4-c5dd-42ad-8e21-96fc74b3c039",
   "metadata": {},
   "outputs": [],
   "source": [
    "import pandas as pd\n",
    "import numpy as np\n",
    "import seaborn as sns\n",
    "import matplotlib.pyplot as plt\n",
    "import warnings\n",
    "warnings.simplefilter('ignore')"
   ]
  },
  {
   "cell_type": "code",
   "execution_count": 2,
   "id": "c3fd66ce-3714-42a5-a60b-440e5af4039e",
   "metadata": {},
   "outputs": [
    {
     "data": {
      "text/html": [
       "<div>\n",
       "<style scoped>\n",
       "    .dataframe tbody tr th:only-of-type {\n",
       "        vertical-align: middle;\n",
       "    }\n",
       "\n",
       "    .dataframe tbody tr th {\n",
       "        vertical-align: top;\n",
       "    }\n",
       "\n",
       "    .dataframe thead th {\n",
       "        text-align: right;\n",
       "    }\n",
       "</style>\n",
       "<table border=\"1\" class=\"dataframe\">\n",
       "  <thead>\n",
       "    <tr style=\"text-align: right;\">\n",
       "      <th></th>\n",
       "      <th>loan_amnt</th>\n",
       "      <th>term</th>\n",
       "      <th>int_rate</th>\n",
       "      <th>installment</th>\n",
       "      <th>home_ownership</th>\n",
       "      <th>annual_inc</th>\n",
       "      <th>verification_status</th>\n",
       "      <th>loan_status</th>\n",
       "      <th>purpose</th>\n",
       "      <th>total_pymnt</th>\n",
       "      <th>issue_month</th>\n",
       "    </tr>\n",
       "  </thead>\n",
       "  <tbody>\n",
       "    <tr>\n",
       "      <th>0</th>\n",
       "      <td>-0.831337</td>\n",
       "      <td>36</td>\n",
       "      <td>-0.368123</td>\n",
       "      <td>-0.734330</td>\n",
       "      <td>4</td>\n",
       "      <td>-1.611810</td>\n",
       "      <td>2</td>\n",
       "      <td>2</td>\n",
       "      <td>1</td>\n",
       "      <td>-0.615834</td>\n",
       "      <td>12</td>\n",
       "    </tr>\n",
       "    <tr>\n",
       "      <th>1</th>\n",
       "      <td>-1.596084</td>\n",
       "      <td>60</td>\n",
       "      <td>0.872219</td>\n",
       "      <td>-1.867178</td>\n",
       "      <td>4</td>\n",
       "      <td>-1.195604</td>\n",
       "      <td>1</td>\n",
       "      <td>0</td>\n",
       "      <td>0</td>\n",
       "      <td>-2.080471</td>\n",
       "      <td>12</td>\n",
       "    </tr>\n",
       "    <tr>\n",
       "      <th>2</th>\n",
       "      <td>-1.637050</td>\n",
       "      <td>36</td>\n",
       "      <td>1.057465</td>\n",
       "      <td>-1.511840</td>\n",
       "      <td>4</td>\n",
       "      <td>-2.895639</td>\n",
       "      <td>0</td>\n",
       "      <td>2</td>\n",
       "      <td>11</td>\n",
       "      <td>-1.265084</td>\n",
       "      <td>12</td>\n",
       "    </tr>\n",
       "    <tr>\n",
       "      <th>3</th>\n",
       "      <td>0.081095</td>\n",
       "      <td>36</td>\n",
       "      <td>0.394338</td>\n",
       "      <td>0.306146</td>\n",
       "      <td>4</td>\n",
       "      <td>-0.290022</td>\n",
       "      <td>1</td>\n",
       "      <td>2</td>\n",
       "      <td>9</td>\n",
       "      <td>0.267863</td>\n",
       "      <td>12</td>\n",
       "    </tr>\n",
       "    <tr>\n",
       "      <th>4</th>\n",
       "      <td>-1.407828</td>\n",
       "      <td>60</td>\n",
       "      <td>0.179561</td>\n",
       "      <td>-1.741542</td>\n",
       "      <td>4</td>\n",
       "      <td>0.577374</td>\n",
       "      <td>1</td>\n",
       "      <td>1</td>\n",
       "      <td>9</td>\n",
       "      <td>-1.124963</td>\n",
       "      <td>12</td>\n",
       "    </tr>\n",
       "  </tbody>\n",
       "</table>\n",
       "</div>"
      ],
      "text/plain": [
       "   loan_amnt  term  int_rate  installment  home_ownership  annual_inc  \\\n",
       "0  -0.831337    36 -0.368123    -0.734330               4   -1.611810   \n",
       "1  -1.596084    60  0.872219    -1.867178               4   -1.195604   \n",
       "2  -1.637050    36  1.057465    -1.511840               4   -2.895639   \n",
       "3   0.081095    36  0.394338     0.306146               4   -0.290022   \n",
       "4  -1.407828    60  0.179561    -1.741542               4    0.577374   \n",
       "\n",
       "   verification_status  loan_status  purpose  total_pymnt  issue_month  \n",
       "0                    2            2        1    -0.615834           12  \n",
       "1                    1            0        0    -2.080471           12  \n",
       "2                    0            2       11    -1.265084           12  \n",
       "3                    1            2        9     0.267863           12  \n",
       "4                    1            1        9    -1.124963           12  "
      ]
     },
     "execution_count": 2,
     "metadata": {},
     "output_type": "execute_result"
    }
   ],
   "source": [
    "df = pd.read_csv('cleaned_loan.csv')\n",
    "df.head()"
   ]
  },
  {
   "cell_type": "code",
   "execution_count": 3,
   "id": "e0061ad0-9ec1-4bd2-bfb4-49efcc9d1e0c",
   "metadata": {},
   "outputs": [],
   "source": [
    "#create X & y\n",
    "X = df.drop(columns = ['loan_status'])\n",
    "y = df['loan_status']"
   ]
  },
  {
   "cell_type": "code",
   "execution_count": 4,
   "id": "0ceb87f8-663c-4939-97b9-bc33f7ac2065",
   "metadata": {},
   "outputs": [],
   "source": [
    "#train-test split\n",
    "from sklearn.model_selection import train_test_split\n",
    "X_train,X_test,y_train,y_test = train_test_split(X,y,test_size=0.2,random_state = True)"
   ]
  },
  {
   "cell_type": "code",
   "execution_count": 10,
   "id": "89db1275-e61e-4085-84ec-0b6902bedcf6",
   "metadata": {},
   "outputs": [
    {
     "data": {
      "text/plain": [
       "{'gamma': 0, 'max_depth': 4, 'n_estimators': 120}"
      ]
     },
     "execution_count": 10,
     "metadata": {},
     "output_type": "execute_result"
    }
   ],
   "source": [
    "#Hypre-parameter tunning\n",
    "from xgboost import XGBClassifier\n",
    "from sklearn.model_selection import GridSearchCV\n",
    "estimator = XGBClassifier()\n",
    "param_grid = {\"n_estimators\":[100,110,120,150],\n",
    "             'max_depth':[3,4,5],\n",
    "             'gamma':[0,0.15,0.3,0.5,1]}\n",
    "\n",
    "xgb_grid = GridSearchCV(estimator,param_grid,cv=5,scoring='accuracy')\n",
    "xgb_grid.fit(X_train,y_train)\n",
    "xgb_grid.best_params_"
   ]
  },
  {
   "cell_type": "code",
   "execution_count": 11,
   "id": "55759604-82cf-47a6-86ee-6b9ec1905b76",
   "metadata": {},
   "outputs": [
    {
     "data": {
      "text/plain": [
       "array([0.14603339, 0.35555953, 0.03324141, 0.23312919, 0.01362222,\n",
       "       0.01527295, 0.01058959, 0.01530295, 0.13958338, 0.03766532],\n",
       "      dtype=float32)"
      ]
     },
     "execution_count": 11,
     "metadata": {},
     "output_type": "execute_result"
    }
   ],
   "source": [
    "xgb_grid.best_estimator_.feature_importances_"
   ]
  },
  {
   "cell_type": "code",
   "execution_count": 12,
   "id": "c8fc459b-ea41-4aaa-be46-927523f14d4b",
   "metadata": {},
   "outputs": [
    {
     "data": {
      "text/plain": [
       "['loan_amnt',\n",
       " 'term',\n",
       " 'int_rate',\n",
       " 'installment',\n",
       " 'home_ownership',\n",
       " 'annual_inc',\n",
       " 'verification_status',\n",
       " 'purpose',\n",
       " 'total_pymnt',\n",
       " 'issue_month']"
      ]
     },
     "execution_count": 12,
     "metadata": {},
     "output_type": "execute_result"
    }
   ],
   "source": [
    "feature = pd.DataFrame(data = xgb_grid.best_estimator_.feature_importances_,\n",
    "                       index = X_train.columns,\n",
    "                       columns = [\"Feature_importances\"])\n",
    "feature_imp = feature[feature[\"Feature_importances\"] > 0]\n",
    "imp_features = feature_imp.index.tolist()\n",
    "imp_features"
   ]
  },
  {
   "cell_type": "code",
   "execution_count": 14,
   "id": "ffa08850-6757-4326-953c-0890ee9b35fb",
   "metadata": {},
   "outputs": [
    {
     "name": "stdout",
     "output_type": "stream",
     "text": [
      "train_accuracy 0.9570704686368929\n",
      "test_accuracy 0.9446122860020141\n",
      "cross_validation_score 0.9459919360410819\n"
     ]
    }
   ],
   "source": [
    "from sklearn.metrics import accuracy_score\n",
    "from sklearn.model_selection import cross_val_score\n",
    "X4 = X[imp_features]\n",
    "\n",
    "X4_train,X4_test,y4_train,y4_test = train_test_split(X4,y,test_size=0.2,random_state=True)\n",
    "\n",
    "xgb_model = XGBClassifier(n_estimators = 120,max_depth = 4,gamma = 0)\n",
    "xgb_model.fit(X4_train,y4_train)\n",
    "\n",
    "y4_pred_train = xgb_model.predict(X4_train)\n",
    "y4_pred_test = xgb_model.predict(X4_test)\n",
    "\n",
    "print('train_accuracy',accuracy_score(y4_pred_train,y4_train))\n",
    "print('test_accuracy',accuracy_score(y4_pred_test,y4_test))\n",
    "print('cross_validation_score',cross_val_score(xgb_model,X4_train,y4_train,scoring='accuracy',cv=5).mean())"
   ]
  },
  {
   "cell_type": "code",
   "execution_count": 15,
   "id": "73831078-898f-463f-8403-5c5bc9e3fd6b",
   "metadata": {},
   "outputs": [
    {
     "data": {
      "text/plain": [
       "['XGBoost,joblib']"
      ]
     },
     "execution_count": 15,
     "metadata": {},
     "output_type": "execute_result"
    }
   ],
   "source": [
    "import joblib\n",
    "joblib.dump(xgb_model,'XGBoost,joblib')"
   ]
  }
 ],
 "metadata": {
  "kernelspec": {
   "display_name": "Python 3 (ipykernel)",
   "language": "python",
   "name": "python3"
  },
  "language_info": {
   "codemirror_mode": {
    "name": "ipython",
    "version": 3
   },
   "file_extension": ".py",
   "mimetype": "text/x-python",
   "name": "python",
   "nbconvert_exporter": "python",
   "pygments_lexer": "ipython3",
   "version": "3.12.7"
  }
 },
 "nbformat": 4,
 "nbformat_minor": 5
}
