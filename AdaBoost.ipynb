{
 "cells": [
  {
   "cell_type": "code",
   "execution_count": 1,
   "id": "d481fc3e-cfa3-4d5f-b39e-5cac3a03fa75",
   "metadata": {},
   "outputs": [],
   "source": [
    "import pandas as pd\n",
    "import numpy as np\n",
    "import seaborn as sns\n",
    "import matplotlib.pyplot as plt\n",
    "import warnings\n",
    "warnings.simplefilter('ignore')"
   ]
  },
  {
   "cell_type": "code",
   "execution_count": 2,
   "id": "b3663061-9eee-422b-8ef3-d1564f17c1cc",
   "metadata": {},
   "outputs": [
    {
     "data": {
      "text/html": [
       "<div>\n",
       "<style scoped>\n",
       "    .dataframe tbody tr th:only-of-type {\n",
       "        vertical-align: middle;\n",
       "    }\n",
       "\n",
       "    .dataframe tbody tr th {\n",
       "        vertical-align: top;\n",
       "    }\n",
       "\n",
       "    .dataframe thead th {\n",
       "        text-align: right;\n",
       "    }\n",
       "</style>\n",
       "<table border=\"1\" class=\"dataframe\">\n",
       "  <thead>\n",
       "    <tr style=\"text-align: right;\">\n",
       "      <th></th>\n",
       "      <th>loan_amnt</th>\n",
       "      <th>term</th>\n",
       "      <th>int_rate</th>\n",
       "      <th>installment</th>\n",
       "      <th>home_ownership</th>\n",
       "      <th>annual_inc</th>\n",
       "      <th>verification_status</th>\n",
       "      <th>loan_status</th>\n",
       "      <th>purpose</th>\n",
       "      <th>total_pymnt</th>\n",
       "      <th>issue_month</th>\n",
       "    </tr>\n",
       "  </thead>\n",
       "  <tbody>\n",
       "    <tr>\n",
       "      <th>0</th>\n",
       "      <td>-0.831337</td>\n",
       "      <td>36</td>\n",
       "      <td>-0.368123</td>\n",
       "      <td>-0.734330</td>\n",
       "      <td>4</td>\n",
       "      <td>-1.611810</td>\n",
       "      <td>2</td>\n",
       "      <td>2</td>\n",
       "      <td>1</td>\n",
       "      <td>-0.615834</td>\n",
       "      <td>12</td>\n",
       "    </tr>\n",
       "    <tr>\n",
       "      <th>1</th>\n",
       "      <td>-1.596084</td>\n",
       "      <td>60</td>\n",
       "      <td>0.872219</td>\n",
       "      <td>-1.867178</td>\n",
       "      <td>4</td>\n",
       "      <td>-1.195604</td>\n",
       "      <td>1</td>\n",
       "      <td>0</td>\n",
       "      <td>0</td>\n",
       "      <td>-2.080471</td>\n",
       "      <td>12</td>\n",
       "    </tr>\n",
       "    <tr>\n",
       "      <th>2</th>\n",
       "      <td>-1.637050</td>\n",
       "      <td>36</td>\n",
       "      <td>1.057465</td>\n",
       "      <td>-1.511840</td>\n",
       "      <td>4</td>\n",
       "      <td>-2.895639</td>\n",
       "      <td>0</td>\n",
       "      <td>2</td>\n",
       "      <td>11</td>\n",
       "      <td>-1.265084</td>\n",
       "      <td>12</td>\n",
       "    </tr>\n",
       "    <tr>\n",
       "      <th>3</th>\n",
       "      <td>0.081095</td>\n",
       "      <td>36</td>\n",
       "      <td>0.394338</td>\n",
       "      <td>0.306146</td>\n",
       "      <td>4</td>\n",
       "      <td>-0.290022</td>\n",
       "      <td>1</td>\n",
       "      <td>2</td>\n",
       "      <td>9</td>\n",
       "      <td>0.267863</td>\n",
       "      <td>12</td>\n",
       "    </tr>\n",
       "    <tr>\n",
       "      <th>4</th>\n",
       "      <td>-1.407828</td>\n",
       "      <td>60</td>\n",
       "      <td>0.179561</td>\n",
       "      <td>-1.741542</td>\n",
       "      <td>4</td>\n",
       "      <td>0.577374</td>\n",
       "      <td>1</td>\n",
       "      <td>1</td>\n",
       "      <td>9</td>\n",
       "      <td>-1.124963</td>\n",
       "      <td>12</td>\n",
       "    </tr>\n",
       "  </tbody>\n",
       "</table>\n",
       "</div>"
      ],
      "text/plain": [
       "   loan_amnt  term  int_rate  installment  home_ownership  annual_inc  \\\n",
       "0  -0.831337    36 -0.368123    -0.734330               4   -1.611810   \n",
       "1  -1.596084    60  0.872219    -1.867178               4   -1.195604   \n",
       "2  -1.637050    36  1.057465    -1.511840               4   -2.895639   \n",
       "3   0.081095    36  0.394338     0.306146               4   -0.290022   \n",
       "4  -1.407828    60  0.179561    -1.741542               4    0.577374   \n",
       "\n",
       "   verification_status  loan_status  purpose  total_pymnt  issue_month  \n",
       "0                    2            2        1    -0.615834           12  \n",
       "1                    1            0        0    -2.080471           12  \n",
       "2                    0            2       11    -1.265084           12  \n",
       "3                    1            2        9     0.267863           12  \n",
       "4                    1            1        9    -1.124963           12  "
      ]
     },
     "execution_count": 2,
     "metadata": {},
     "output_type": "execute_result"
    }
   ],
   "source": [
    "df = pd.read_csv('cleaned_loan.csv')\n",
    "df.head()"
   ]
  },
  {
   "cell_type": "code",
   "execution_count": 3,
   "id": "e23ef721-5dd5-400f-8f94-d8dbc639bb10",
   "metadata": {},
   "outputs": [],
   "source": [
    "#create X & y\n",
    "X = df.drop(columns = ['loan_status'])\n",
    "y = df['loan_status']"
   ]
  },
  {
   "cell_type": "code",
   "execution_count": 4,
   "id": "99596444-eb82-4f52-8002-40c68d67f751",
   "metadata": {},
   "outputs": [],
   "source": [
    "#train-test split\n",
    "from sklearn.model_selection import train_test_split\n",
    "X_train,X_test,y_train,y_test = train_test_split(X,y,test_size=0.2,random_state = True)"
   ]
  },
  {
   "cell_type": "code",
   "execution_count": 10,
   "id": "3f672b9f-bb25-4db7-a931-82e02f4da936",
   "metadata": {},
   "outputs": [
    {
     "data": {
      "text/plain": [
       "{'n_estimators': 28}"
      ]
     },
     "execution_count": 10,
     "metadata": {},
     "output_type": "execute_result"
    }
   ],
   "source": [
    "#Hypre-parameter tunning\n",
    "from sklearn.ensemble import AdaBoostClassifier\n",
    "from sklearn.model_selection import GridSearchCV\n",
    "\n",
    "estimator = AdaBoostClassifier(random_state = True)\n",
    "param_grid = {'n_estimators':list(range(1,30))}\n",
    "ab_grid = GridSearchCV(estimator,param_grid,cv=5,scoring='accuracy')\n",
    "ab_grid.fit(X_train,y_train)\n",
    "ab_grid.best_params_"
   ]
  },
  {
   "cell_type": "code",
   "execution_count": 11,
   "id": "fcf7fa1c-f304-45f8-b6ad-cb20d99db0c7",
   "metadata": {},
   "outputs": [
    {
     "data": {
      "text/plain": [
       "array([0.10714286, 0.03571429, 0.03571429, 0.32142857, 0.        ,\n",
       "       0.        , 0.        , 0.        , 0.46428571, 0.03571429])"
      ]
     },
     "execution_count": 11,
     "metadata": {},
     "output_type": "execute_result"
    }
   ],
   "source": [
    "ab_grid.best_estimator_.feature_importances_"
   ]
  },
  {
   "cell_type": "code",
   "execution_count": 12,
   "id": "a036fba5-a2eb-4b87-9f8f-b234c6607c66",
   "metadata": {},
   "outputs": [
    {
     "data": {
      "text/plain": [
       "['loan_amnt', 'term', 'int_rate', 'installment', 'total_pymnt', 'issue_month']"
      ]
     },
     "execution_count": 12,
     "metadata": {},
     "output_type": "execute_result"
    }
   ],
   "source": [
    "feature = pd.DataFrame(data = ab_grid.best_estimator_.feature_importances_,\n",
    "                       index = X_train.columns,\n",
    "                       columns = ['Feature_importances'])\n",
    "\n",
    "feature_imp = feature[feature['Feature_importances'] > 0 ]\n",
    "imp_feature = feature_imp.index.tolist()\n",
    "imp_feature"
   ]
  },
  {
   "cell_type": "code",
   "execution_count": 14,
   "id": "0706933b-f1a8-4276-9af2-e66aa2f771ef",
   "metadata": {},
   "outputs": [
    {
     "name": "stdout",
     "output_type": "stream",
     "text": [
      "train_accuracy: 0.9131337928429799\n",
      "test_accuracy: 0.9101208459214502\n",
      "cv_score: 0.9128503873360035\n"
     ]
    }
   ],
   "source": [
    "X2 = X[imp_feature]\n",
    "X2_train,X2_test,y2_train,y2_test = train_test_split(X2,y,test_size = 0.2,random_state = True)\n",
    "\n",
    "ab_model = AdaBoostClassifier(n_estimators = 28, random_state = True)\n",
    "ab_model.fit(X2_train,y2_train)\n",
    "\n",
    "y2_pred_train = ab_model.predict(X2_train)\n",
    "y2_pred_test = ab_model.predict(X2_test)\n",
    "\n",
    "from sklearn.metrics import accuracy_score\n",
    "from sklearn.model_selection import cross_val_score\n",
    "print('train_accuracy:',accuracy_score(y2_train,y2_pred_train))\n",
    "print('test_accuracy:',accuracy_score(y2_test,y2_pred_test))\n",
    "print('cv_score:',cross_val_score(ab_model,X2_train,y2_train,cv=5,scoring='accuracy').mean())"
   ]
  }
 ],
 "metadata": {
  "kernelspec": {
   "display_name": "Python 3 (ipykernel)",
   "language": "python",
   "name": "python3"
  },
  "language_info": {
   "codemirror_mode": {
    "name": "ipython",
    "version": 3
   },
   "file_extension": ".py",
   "mimetype": "text/x-python",
   "name": "python",
   "nbconvert_exporter": "python",
   "pygments_lexer": "ipython3",
   "version": "3.12.7"
  }
 },
 "nbformat": 4,
 "nbformat_minor": 5
}
