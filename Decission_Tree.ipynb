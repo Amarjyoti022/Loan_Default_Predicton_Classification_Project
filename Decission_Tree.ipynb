{
 "cells": [
  {
   "cell_type": "code",
   "execution_count": 1,
   "id": "8d68c5a2-f59b-4793-a41c-8885ba690b61",
   "metadata": {},
   "outputs": [],
   "source": [
    "import pandas as pd\n",
    "import numpy as np\n",
    "import matplotlib.pyplot as plt\n",
    "import seaborn as sns\n",
    "import warnings\n",
    "warnings.simplefilter('ignore')"
   ]
  },
  {
   "cell_type": "code",
   "execution_count": 2,
   "id": "9419aa21-7a75-4746-917b-0314c5d05475",
   "metadata": {},
   "outputs": [
    {
     "data": {
      "text/html": [
       "<div>\n",
       "<style scoped>\n",
       "    .dataframe tbody tr th:only-of-type {\n",
       "        vertical-align: middle;\n",
       "    }\n",
       "\n",
       "    .dataframe tbody tr th {\n",
       "        vertical-align: top;\n",
       "    }\n",
       "\n",
       "    .dataframe thead th {\n",
       "        text-align: right;\n",
       "    }\n",
       "</style>\n",
       "<table border=\"1\" class=\"dataframe\">\n",
       "  <thead>\n",
       "    <tr style=\"text-align: right;\">\n",
       "      <th></th>\n",
       "      <th>loan_amnt</th>\n",
       "      <th>term</th>\n",
       "      <th>int_rate</th>\n",
       "      <th>installment</th>\n",
       "      <th>home_ownership</th>\n",
       "      <th>annual_inc</th>\n",
       "      <th>verification_status</th>\n",
       "      <th>loan_status</th>\n",
       "      <th>purpose</th>\n",
       "      <th>total_pymnt</th>\n",
       "      <th>issue_month</th>\n",
       "    </tr>\n",
       "  </thead>\n",
       "  <tbody>\n",
       "    <tr>\n",
       "      <th>0</th>\n",
       "      <td>-0.831337</td>\n",
       "      <td>36</td>\n",
       "      <td>-0.368123</td>\n",
       "      <td>-0.734330</td>\n",
       "      <td>4</td>\n",
       "      <td>-1.611810</td>\n",
       "      <td>2</td>\n",
       "      <td>2</td>\n",
       "      <td>1</td>\n",
       "      <td>-0.615834</td>\n",
       "      <td>12</td>\n",
       "    </tr>\n",
       "    <tr>\n",
       "      <th>1</th>\n",
       "      <td>-1.596084</td>\n",
       "      <td>60</td>\n",
       "      <td>0.872219</td>\n",
       "      <td>-1.867178</td>\n",
       "      <td>4</td>\n",
       "      <td>-1.195604</td>\n",
       "      <td>1</td>\n",
       "      <td>0</td>\n",
       "      <td>0</td>\n",
       "      <td>-2.080471</td>\n",
       "      <td>12</td>\n",
       "    </tr>\n",
       "    <tr>\n",
       "      <th>2</th>\n",
       "      <td>-1.637050</td>\n",
       "      <td>36</td>\n",
       "      <td>1.057465</td>\n",
       "      <td>-1.511840</td>\n",
       "      <td>4</td>\n",
       "      <td>-2.895639</td>\n",
       "      <td>0</td>\n",
       "      <td>2</td>\n",
       "      <td>11</td>\n",
       "      <td>-1.265084</td>\n",
       "      <td>12</td>\n",
       "    </tr>\n",
       "    <tr>\n",
       "      <th>3</th>\n",
       "      <td>0.081095</td>\n",
       "      <td>36</td>\n",
       "      <td>0.394338</td>\n",
       "      <td>0.306146</td>\n",
       "      <td>4</td>\n",
       "      <td>-0.290022</td>\n",
       "      <td>1</td>\n",
       "      <td>2</td>\n",
       "      <td>9</td>\n",
       "      <td>0.267863</td>\n",
       "      <td>12</td>\n",
       "    </tr>\n",
       "    <tr>\n",
       "      <th>4</th>\n",
       "      <td>-1.407828</td>\n",
       "      <td>60</td>\n",
       "      <td>0.179561</td>\n",
       "      <td>-1.741542</td>\n",
       "      <td>4</td>\n",
       "      <td>0.577374</td>\n",
       "      <td>1</td>\n",
       "      <td>1</td>\n",
       "      <td>9</td>\n",
       "      <td>-1.124963</td>\n",
       "      <td>12</td>\n",
       "    </tr>\n",
       "  </tbody>\n",
       "</table>\n",
       "</div>"
      ],
      "text/plain": [
       "   loan_amnt  term  int_rate  installment  home_ownership  annual_inc  \\\n",
       "0  -0.831337    36 -0.368123    -0.734330               4   -1.611810   \n",
       "1  -1.596084    60  0.872219    -1.867178               4   -1.195604   \n",
       "2  -1.637050    36  1.057465    -1.511840               4   -2.895639   \n",
       "3   0.081095    36  0.394338     0.306146               4   -0.290022   \n",
       "4  -1.407828    60  0.179561    -1.741542               4    0.577374   \n",
       "\n",
       "   verification_status  loan_status  purpose  total_pymnt  issue_month  \n",
       "0                    2            2        1    -0.615834           12  \n",
       "1                    1            0        0    -2.080471           12  \n",
       "2                    0            2       11    -1.265084           12  \n",
       "3                    1            2        9     0.267863           12  \n",
       "4                    1            1        9    -1.124963           12  "
      ]
     },
     "execution_count": 2,
     "metadata": {},
     "output_type": "execute_result"
    }
   ],
   "source": [
    "df = pd.read_csv('cleaned_loan.csv')\n",
    "df.head()"
   ]
  },
  {
   "cell_type": "code",
   "execution_count": 3,
   "id": "3e13ef90-e893-4813-8230-c41e92e13a78",
   "metadata": {},
   "outputs": [],
   "source": [
    "#create X & y\n",
    "X = df.drop(columns = ['loan_status'])\n",
    "y = df['loan_status']"
   ]
  },
  {
   "cell_type": "code",
   "execution_count": 4,
   "id": "4139f361-f560-4a3b-8a8a-a7919fcf3df1",
   "metadata": {},
   "outputs": [],
   "source": [
    "#train-test split\n",
    "from sklearn.model_selection import train_test_split\n",
    "X_train,X_test,y_train,y_test = train_test_split(X,y,test_size=0.2,random_state = True)"
   ]
  },
  {
   "cell_type": "code",
   "execution_count": 7,
   "id": "3b504a6e-65c1-4f58-bdfd-d22c90fafb03",
   "metadata": {},
   "outputs": [
    {
     "name": "stdout",
     "output_type": "stream",
     "text": [
      "train_accuracy: 1.0\n",
      "test_accuracy: 0.9142749244712991\n",
      "cv_score: 0.9156201672772462\n"
     ]
    }
   ],
   "source": [
    "from sklearn.tree import DecisionTreeClassifier,plot_tree\n",
    "from sklearn.metrics import accuracy_score\n",
    "from sklearn.model_selection import cross_val_score\n",
    "\n",
    "dt_model = DecisionTreeClassifier()\n",
    "dt_model.fit(X_train,y_train)\n",
    "\n",
    "ypred_train = dt_model.predict(X_train)\n",
    "ypred_test = dt_model.predict(X_test)\n",
    "\n",
    "print('train_accuracy:',accuracy_score(y_train,ypred_train))\n",
    "print('test_accuracy:',accuracy_score(y_test,ypred_test))\n",
    "print('cv_score:',cross_val_score(dt_model,X_train,y_train,cv=5,scoring = 'accuracy').mean())"
   ]
  },
  {
   "cell_type": "code",
   "execution_count": 13,
   "id": "2a8ee187-1bb6-4fa1-9dfd-c434d33a927e",
   "metadata": {},
   "outputs": [
    {
     "name": "stdout",
     "output_type": "stream",
     "text": [
      "max depth of tree: 35\n"
     ]
    }
   ],
   "source": [
    "print('max depth of tree:',dt_model.tree_.max_depth)"
   ]
  },
  {
   "cell_type": "code",
   "execution_count": 14,
   "id": "5681b000-ca26-40ca-b977-8362de797b8a",
   "metadata": {},
   "outputs": [
    {
     "data": {
      "text/plain": [
       "{'criterion': 'entropy', 'max_depth': 9}"
      ]
     },
     "execution_count": 14,
     "metadata": {},
     "output_type": "execute_result"
    }
   ],
   "source": [
    "from sklearn.tree import DecisionTreeClassifier\n",
    "from sklearn.model_selection import GridSearchCV\n",
    "\n",
    "estimator = DecisionTreeClassifier(random_state = True)\n",
    "param_grid = {'criterion':['gini','entropy'],\n",
    "              'max_depth':list(range(1,36))}\n",
    "dt_grid = GridSearchCV(estimator,param_grid,cv=5,scoring = 'accuracy')\n",
    "dt_grid.fit(X_train,y_train)\n",
    "dt_grid.best_params_"
   ]
  },
  {
   "cell_type": "code",
   "execution_count": 15,
   "id": "a08a0879-3fe5-4841-abac-1668d3b308c6",
   "metadata": {},
   "outputs": [
    {
     "data": {
      "text/plain": [
       "array([2.40504757e-02, 1.34821766e-01, 1.41097622e-02, 4.22961106e-01,\n",
       "       2.90417644e-04, 2.52664961e-03, 5.51441097e-04, 1.44575023e-03,\n",
       "       3.77753719e-01, 2.14889134e-02])"
      ]
     },
     "execution_count": 15,
     "metadata": {},
     "output_type": "execute_result"
    }
   ],
   "source": [
    "dt_grid.best_estimator_.feature_importances_"
   ]
  },
  {
   "cell_type": "code",
   "execution_count": 16,
   "id": "1feec85c-2937-428f-886c-f1ae07e3b8cb",
   "metadata": {},
   "outputs": [
    {
     "data": {
      "text/plain": [
       "['loan_amnt',\n",
       " 'term',\n",
       " 'int_rate',\n",
       " 'installment',\n",
       " 'home_ownership',\n",
       " 'annual_inc',\n",
       " 'verification_status',\n",
       " 'purpose',\n",
       " 'total_pymnt',\n",
       " 'issue_month']"
      ]
     },
     "execution_count": 16,
     "metadata": {},
     "output_type": "execute_result"
    }
   ],
   "source": [
    "feature = pd.DataFrame(data = dt_grid.best_estimator_.feature_importances_,\n",
    "                       index = X_train.columns,\n",
    "                       columns = ['Feature_importance'])\n",
    "\n",
    "feature_imp = feature[feature['Feature_importance'] > 0]\n",
    "imp_feature = feature_imp.index.tolist()\n",
    "imp_feature"
   ]
  },
  {
   "cell_type": "code",
   "execution_count": 18,
   "id": "a1a950f6-2e05-4960-93f7-d2335c83ac8e",
   "metadata": {},
   "outputs": [
    {
     "name": "stdout",
     "output_type": "stream",
     "text": [
      "train_accuracy 0.9479117489692506\n",
      "test_accuracy 0.9369335347432024\n",
      "cv_score 0.9395084506634154\n"
     ]
    }
   ],
   "source": [
    "X1 = X[imp_feature]\n",
    "\n",
    "X1_train,X1_test,y1_train,y1_test = train_test_split(X1,y,test_size=0.2,random_state=True)\n",
    "\n",
    "dt_model = DecisionTreeClassifier(criterion = 'entropy',max_depth = 9,random_state = True)\n",
    "dt_model.fit(X1_train,y1_train)\n",
    "\n",
    "y_pred_train = dt_model.predict(X1_train)\n",
    "y_pred_test = dt_model.predict(X1_test)\n",
    "\n",
    "print('train_accuracy',accuracy_score(y_pred_train,y1_train))\n",
    "print('test_accuracy',accuracy_score(y_pred_test,y1_test))\n",
    "print('cv_score',cross_val_score(dt_model,X1_train,y1_train,cv=5,scoring='accuracy').mean())"
   ]
  },
  {
   "cell_type": "code",
   "execution_count": null,
   "id": "115a27c8-2cd3-460c-802a-d27ef52f68b5",
   "metadata": {},
   "outputs": [],
   "source": []
  }
 ],
 "metadata": {
  "kernelspec": {
   "display_name": "Python 3 (ipykernel)",
   "language": "python",
   "name": "python3"
  },
  "language_info": {
   "codemirror_mode": {
    "name": "ipython",
    "version": 3
   },
   "file_extension": ".py",
   "mimetype": "text/x-python",
   "name": "python",
   "nbconvert_exporter": "python",
   "pygments_lexer": "ipython3",
   "version": "3.12.7"
  }
 },
 "nbformat": 4,
 "nbformat_minor": 5
}
