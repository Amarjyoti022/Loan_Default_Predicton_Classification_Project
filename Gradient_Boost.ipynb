{
 "cells": [
  {
   "cell_type": "code",
   "execution_count": 1,
   "id": "90847192-9184-43fa-ac12-037b54f3a4b4",
   "metadata": {},
   "outputs": [],
   "source": [
    "import pandas as pd\n",
    "import numpy as np\n",
    "import seaborn as sns\n",
    "import matplotlib.pyplot as plt\n",
    "import warnings\n",
    "warnings.simplefilter('ignore')"
   ]
  },
  {
   "cell_type": "code",
   "execution_count": 2,
   "id": "a687364a-cc65-4a8d-8166-46ef3dfb6570",
   "metadata": {},
   "outputs": [
    {
     "data": {
      "text/html": [
       "<div>\n",
       "<style scoped>\n",
       "    .dataframe tbody tr th:only-of-type {\n",
       "        vertical-align: middle;\n",
       "    }\n",
       "\n",
       "    .dataframe tbody tr th {\n",
       "        vertical-align: top;\n",
       "    }\n",
       "\n",
       "    .dataframe thead th {\n",
       "        text-align: right;\n",
       "    }\n",
       "</style>\n",
       "<table border=\"1\" class=\"dataframe\">\n",
       "  <thead>\n",
       "    <tr style=\"text-align: right;\">\n",
       "      <th></th>\n",
       "      <th>loan_amnt</th>\n",
       "      <th>term</th>\n",
       "      <th>int_rate</th>\n",
       "      <th>installment</th>\n",
       "      <th>home_ownership</th>\n",
       "      <th>annual_inc</th>\n",
       "      <th>verification_status</th>\n",
       "      <th>loan_status</th>\n",
       "      <th>purpose</th>\n",
       "      <th>total_pymnt</th>\n",
       "      <th>issue_month</th>\n",
       "    </tr>\n",
       "  </thead>\n",
       "  <tbody>\n",
       "    <tr>\n",
       "      <th>0</th>\n",
       "      <td>-0.831337</td>\n",
       "      <td>36</td>\n",
       "      <td>-0.368123</td>\n",
       "      <td>-0.734330</td>\n",
       "      <td>4</td>\n",
       "      <td>-1.611810</td>\n",
       "      <td>2</td>\n",
       "      <td>2</td>\n",
       "      <td>1</td>\n",
       "      <td>-0.615834</td>\n",
       "      <td>12</td>\n",
       "    </tr>\n",
       "    <tr>\n",
       "      <th>1</th>\n",
       "      <td>-1.596084</td>\n",
       "      <td>60</td>\n",
       "      <td>0.872219</td>\n",
       "      <td>-1.867178</td>\n",
       "      <td>4</td>\n",
       "      <td>-1.195604</td>\n",
       "      <td>1</td>\n",
       "      <td>0</td>\n",
       "      <td>0</td>\n",
       "      <td>-2.080471</td>\n",
       "      <td>12</td>\n",
       "    </tr>\n",
       "    <tr>\n",
       "      <th>2</th>\n",
       "      <td>-1.637050</td>\n",
       "      <td>36</td>\n",
       "      <td>1.057465</td>\n",
       "      <td>-1.511840</td>\n",
       "      <td>4</td>\n",
       "      <td>-2.895639</td>\n",
       "      <td>0</td>\n",
       "      <td>2</td>\n",
       "      <td>11</td>\n",
       "      <td>-1.265084</td>\n",
       "      <td>12</td>\n",
       "    </tr>\n",
       "    <tr>\n",
       "      <th>3</th>\n",
       "      <td>0.081095</td>\n",
       "      <td>36</td>\n",
       "      <td>0.394338</td>\n",
       "      <td>0.306146</td>\n",
       "      <td>4</td>\n",
       "      <td>-0.290022</td>\n",
       "      <td>1</td>\n",
       "      <td>2</td>\n",
       "      <td>9</td>\n",
       "      <td>0.267863</td>\n",
       "      <td>12</td>\n",
       "    </tr>\n",
       "    <tr>\n",
       "      <th>4</th>\n",
       "      <td>-1.407828</td>\n",
       "      <td>60</td>\n",
       "      <td>0.179561</td>\n",
       "      <td>-1.741542</td>\n",
       "      <td>4</td>\n",
       "      <td>0.577374</td>\n",
       "      <td>1</td>\n",
       "      <td>1</td>\n",
       "      <td>9</td>\n",
       "      <td>-1.124963</td>\n",
       "      <td>12</td>\n",
       "    </tr>\n",
       "  </tbody>\n",
       "</table>\n",
       "</div>"
      ],
      "text/plain": [
       "   loan_amnt  term  int_rate  installment  home_ownership  annual_inc  \\\n",
       "0  -0.831337    36 -0.368123    -0.734330               4   -1.611810   \n",
       "1  -1.596084    60  0.872219    -1.867178               4   -1.195604   \n",
       "2  -1.637050    36  1.057465    -1.511840               4   -2.895639   \n",
       "3   0.081095    36  0.394338     0.306146               4   -0.290022   \n",
       "4  -1.407828    60  0.179561    -1.741542               4    0.577374   \n",
       "\n",
       "   verification_status  loan_status  purpose  total_pymnt  issue_month  \n",
       "0                    2            2        1    -0.615834           12  \n",
       "1                    1            0        0    -2.080471           12  \n",
       "2                    0            2       11    -1.265084           12  \n",
       "3                    1            2        9     0.267863           12  \n",
       "4                    1            1        9    -1.124963           12  "
      ]
     },
     "execution_count": 2,
     "metadata": {},
     "output_type": "execute_result"
    }
   ],
   "source": [
    "df = pd.read_csv('cleaned_loan.csv')\n",
    "df.head()"
   ]
  },
  {
   "cell_type": "code",
   "execution_count": 3,
   "id": "af6e2bd1-3fa3-4151-bacb-bff81cad5bfd",
   "metadata": {},
   "outputs": [],
   "source": [
    "#create X & y\n",
    "X = df.drop(columns = ['loan_status'])\n",
    "y = df['loan_status']"
   ]
  },
  {
   "cell_type": "code",
   "execution_count": 4,
   "id": "b04d2131-6363-4ca4-bd94-4785b38b78fc",
   "metadata": {},
   "outputs": [],
   "source": [
    "#train-test split\n",
    "from sklearn.model_selection import train_test_split\n",
    "X_train,X_test,y_train,y_test = train_test_split(X,y,test_size=0.2,random_state = True)"
   ]
  },
  {
   "cell_type": "code",
   "execution_count": 5,
   "id": "a5be46da-87f9-45f1-84d5-5e47bbb7aee0",
   "metadata": {},
   "outputs": [
    {
     "data": {
      "text/plain": [
       "{'learning_rate': 0.7, 'n_estimators': 19}"
      ]
     },
     "execution_count": 5,
     "metadata": {},
     "output_type": "execute_result"
    }
   ],
   "source": [
    "#Hypre-parameter tunning\n",
    "from sklearn.ensemble import GradientBoostingClassifier\n",
    "from sklearn.model_selection import GridSearchCV\n",
    "\n",
    "estimator = GradientBoostingClassifier(random_state = True)\n",
    "param_grid = {'n_estimators':list(range(1,20)),\n",
    "             'learning_rate':[0.1,0.2,0.3,0.4,0.5,0.6,0.7,0.8,0.9,1]}\n",
    "gb_grid = GridSearchCV(estimator,param_grid,cv=5,scoring='accuracy')\n",
    "gb_grid.fit(X_train,y_train)\n",
    "gb_grid.best_params_"
   ]
  },
  {
   "cell_type": "code",
   "execution_count": 9,
   "id": "784a4397-2ff9-4ca1-94f4-fb5e5acd16ea",
   "metadata": {},
   "outputs": [
    {
     "data": {
      "text/plain": [
       "array([0.02885872, 0.10396397, 0.00833148, 0.27472059, 0.        ,\n",
       "       0.00188925, 0.        , 0.00059926, 0.57322641, 0.00841031])"
      ]
     },
     "execution_count": 9,
     "metadata": {},
     "output_type": "execute_result"
    }
   ],
   "source": [
    "gb_grid.best_estimator_.feature_importances_"
   ]
  },
  {
   "cell_type": "code",
   "execution_count": 10,
   "id": "89f56f6d-1b38-4b52-9946-2a6752de00b8",
   "metadata": {},
   "outputs": [
    {
     "data": {
      "text/plain": [
       "['loan_amnt',\n",
       " 'term',\n",
       " 'int_rate',\n",
       " 'installment',\n",
       " 'annual_inc',\n",
       " 'purpose',\n",
       " 'total_pymnt',\n",
       " 'issue_month']"
      ]
     },
     "execution_count": 10,
     "metadata": {},
     "output_type": "execute_result"
    }
   ],
   "source": [
    "feature = pd.DataFrame(data = gb_grid.best_estimator_.feature_importances_,\n",
    "                       index = X_train.columns,\n",
    "                       columns = [\"Feature_importances\"])\n",
    "feature_imp = feature[feature[\"Feature_importances\"] > 0]\n",
    "imp_features = feature_imp.index.tolist()\n",
    "imp_features"
   ]
  },
  {
   "cell_type": "code",
   "execution_count": 11,
   "id": "38c85774-c62e-418e-8f94-c61cc3e9d143",
   "metadata": {},
   "outputs": [
    {
     "name": "stdout",
     "output_type": "stream",
     "text": [
      "train_accuracy 0.9455197809460864\n",
      "test_accuracy 0.9373111782477341\n",
      "cross_validation_score 0.939319642780637\n"
     ]
    }
   ],
   "source": [
    "from sklearn.metrics import accuracy_score\n",
    "from sklearn.model_selection import cross_val_score\n",
    "X3 = X[imp_features]\n",
    "\n",
    "X3_train,X3_test,y3_train,y3_test = train_test_split(X3,y,test_size=0.2,random_state=True)\n",
    "\n",
    "gb_model = GradientBoostingClassifier(n_estimators = 19,learning_rate = 0.7)\n",
    "gb_model.fit(X3_train,y3_train)\n",
    "\n",
    "y3_pred_train = gb_model.predict(X3_train)\n",
    "y3_pred_test = gb_model.predict(X3_test)\n",
    "\n",
    "print('train_accuracy',accuracy_score(y3_pred_train,y3_train))\n",
    "print('test_accuracy',accuracy_score(y3_pred_test,y3_test))\n",
    "print('cross_validation_score',cross_val_score(gb_model,X3_train,y3_train,scoring='accuracy',cv=5).mean())"
   ]
  }
 ],
 "metadata": {
  "kernelspec": {
   "display_name": "Python 3 (ipykernel)",
   "language": "python",
   "name": "python3"
  },
  "language_info": {
   "codemirror_mode": {
    "name": "ipython",
    "version": 3
   },
   "file_extension": ".py",
   "mimetype": "text/x-python",
   "name": "python",
   "nbconvert_exporter": "python",
   "pygments_lexer": "ipython3",
   "version": "3.12.7"
  }
 },
 "nbformat": 4,
 "nbformat_minor": 5
}
